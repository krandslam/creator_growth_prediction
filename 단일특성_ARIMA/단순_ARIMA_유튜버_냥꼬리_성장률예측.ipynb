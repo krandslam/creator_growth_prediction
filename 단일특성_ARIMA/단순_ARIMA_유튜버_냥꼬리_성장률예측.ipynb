{
 "cells": [
  {
   "cell_type": "markdown",
   "metadata": {},
   "source": [
    "## ARIMA 모델을 이용한 유튜버 랄로 성장률 예측"
   ]
  },
  {
   "cell_type": "code",
   "execution_count": 16,
   "metadata": {},
   "outputs": [],
   "source": [
    "import pandas as pd\n",
    "from matplotlib import pyplot as plt\n",
    "%matplotlib inline"
   ]
  },
  {
   "cell_type": "markdown",
   "metadata": {},
   "source": [
    "## 유튜버 정보 csv에서 읽어오기"
   ]
  },
  {
   "cell_type": "code",
   "execution_count": 17,
   "metadata": {},
   "outputs": [],
   "source": [
    "df = pd.read_csv('data/냥꼬리_stat.csv',index_col = 'searchDate')"
   ]
  },
  {
   "cell_type": "code",
   "execution_count": 18,
   "metadata": {},
   "outputs": [
    {
     "data": {
      "text/html": [
       "<div>\n",
       "<style scoped>\n",
       "    .dataframe tbody tr th:only-of-type {\n",
       "        vertical-align: middle;\n",
       "    }\n",
       "\n",
       "    .dataframe tbody tr th {\n",
       "        vertical-align: top;\n",
       "    }\n",
       "\n",
       "    .dataframe thead th {\n",
       "        text-align: right;\n",
       "    }\n",
       "</style>\n",
       "<table border=\"1\" class=\"dataframe\">\n",
       "  <thead>\n",
       "    <tr style=\"text-align: right;\">\n",
       "      <th></th>\n",
       "      <th>dailyViewCount</th>\n",
       "      <th>subscriberCount</th>\n",
       "      <th>videoCount</th>\n",
       "      <th>favorablePercent</th>\n",
       "      <th>activePercent</th>\n",
       "    </tr>\n",
       "    <tr>\n",
       "      <th>searchDate</th>\n",
       "      <th></th>\n",
       "      <th></th>\n",
       "      <th></th>\n",
       "      <th></th>\n",
       "      <th></th>\n",
       "    </tr>\n",
       "  </thead>\n",
       "  <tbody>\n",
       "    <tr>\n",
       "      <th>2020-02-14</th>\n",
       "      <td>33078</td>\n",
       "      <td>103000</td>\n",
       "      <td>360</td>\n",
       "      <td>0</td>\n",
       "      <td>52</td>\n",
       "    </tr>\n",
       "    <tr>\n",
       "      <th>2020-02-15</th>\n",
       "      <td>28674</td>\n",
       "      <td>103000</td>\n",
       "      <td>360</td>\n",
       "      <td>0</td>\n",
       "      <td>49</td>\n",
       "    </tr>\n",
       "    <tr>\n",
       "      <th>2020-02-16</th>\n",
       "      <td>26458</td>\n",
       "      <td>103000</td>\n",
       "      <td>360</td>\n",
       "      <td>0</td>\n",
       "      <td>48</td>\n",
       "    </tr>\n",
       "    <tr>\n",
       "      <th>2020-02-17</th>\n",
       "      <td>41273</td>\n",
       "      <td>103000</td>\n",
       "      <td>361</td>\n",
       "      <td>0</td>\n",
       "      <td>55</td>\n",
       "    </tr>\n",
       "    <tr>\n",
       "      <th>2020-02-18</th>\n",
       "      <td>37284</td>\n",
       "      <td>103000</td>\n",
       "      <td>361</td>\n",
       "      <td>0</td>\n",
       "      <td>53</td>\n",
       "    </tr>\n",
       "    <tr>\n",
       "      <th>...</th>\n",
       "      <td>...</td>\n",
       "      <td>...</td>\n",
       "      <td>...</td>\n",
       "      <td>...</td>\n",
       "      <td>...</td>\n",
       "    </tr>\n",
       "    <tr>\n",
       "      <th>2021-02-06</th>\n",
       "      <td>58354</td>\n",
       "      <td>157000</td>\n",
       "      <td>455</td>\n",
       "      <td>99</td>\n",
       "      <td>58</td>\n",
       "    </tr>\n",
       "    <tr>\n",
       "      <th>2021-02-07</th>\n",
       "      <td>57066</td>\n",
       "      <td>157000</td>\n",
       "      <td>455</td>\n",
       "      <td>99</td>\n",
       "      <td>58</td>\n",
       "    </tr>\n",
       "    <tr>\n",
       "      <th>2021-02-08</th>\n",
       "      <td>88043</td>\n",
       "      <td>158000</td>\n",
       "      <td>456</td>\n",
       "      <td>99</td>\n",
       "      <td>58</td>\n",
       "    </tr>\n",
       "    <tr>\n",
       "      <th>2021-02-09</th>\n",
       "      <td>81965</td>\n",
       "      <td>158000</td>\n",
       "      <td>456</td>\n",
       "      <td>99</td>\n",
       "      <td>58</td>\n",
       "    </tr>\n",
       "    <tr>\n",
       "      <th>2021-02-10</th>\n",
       "      <td>67224</td>\n",
       "      <td>158000</td>\n",
       "      <td>456</td>\n",
       "      <td>99</td>\n",
       "      <td>58</td>\n",
       "    </tr>\n",
       "  </tbody>\n",
       "</table>\n",
       "<p>363 rows × 5 columns</p>\n",
       "</div>"
      ],
      "text/plain": [
       "            dailyViewCount  subscriberCount  videoCount  favorablePercent  \\\n",
       "searchDate                                                                  \n",
       "2020-02-14           33078           103000         360                 0   \n",
       "2020-02-15           28674           103000         360                 0   \n",
       "2020-02-16           26458           103000         360                 0   \n",
       "2020-02-17           41273           103000         361                 0   \n",
       "2020-02-18           37284           103000         361                 0   \n",
       "...                    ...              ...         ...               ...   \n",
       "2021-02-06           58354           157000         455                99   \n",
       "2021-02-07           57066           157000         455                99   \n",
       "2021-02-08           88043           158000         456                99   \n",
       "2021-02-09           81965           158000         456                99   \n",
       "2021-02-10           67224           158000         456                99   \n",
       "\n",
       "            activePercent  \n",
       "searchDate                 \n",
       "2020-02-14             52  \n",
       "2020-02-15             49  \n",
       "2020-02-16             48  \n",
       "2020-02-17             55  \n",
       "2020-02-18             53  \n",
       "...                   ...  \n",
       "2021-02-06             58  \n",
       "2021-02-07             58  \n",
       "2021-02-08             58  \n",
       "2021-02-09             58  \n",
       "2021-02-10             58  \n",
       "\n",
       "[363 rows x 5 columns]"
      ]
     },
     "execution_count": 18,
     "metadata": {},
     "output_type": "execute_result"
    }
   ],
   "source": [
    "df"
   ]
  },
  {
   "cell_type": "markdown",
   "metadata": {},
   "source": [
    "## 컬럼 정리 (구독자 수만 남겨놓기) "
   ]
  },
  {
   "cell_type": "code",
   "execution_count": 19,
   "metadata": {},
   "outputs": [],
   "source": [
    "del df['dailyViewCount']"
   ]
  },
  {
   "cell_type": "code",
   "execution_count": 20,
   "metadata": {},
   "outputs": [],
   "source": [
    "del df['videoCount']"
   ]
  },
  {
   "cell_type": "code",
   "execution_count": 21,
   "metadata": {},
   "outputs": [],
   "source": [
    "del df['favorablePercent']"
   ]
  },
  {
   "cell_type": "code",
   "execution_count": 22,
   "metadata": {},
   "outputs": [],
   "source": [
    "del df['activePercent']"
   ]
  },
  {
   "cell_type": "code",
   "execution_count": 23,
   "metadata": {
    "scrolled": true
   },
   "outputs": [
    {
     "data": {
      "text/html": [
       "<div>\n",
       "<style scoped>\n",
       "    .dataframe tbody tr th:only-of-type {\n",
       "        vertical-align: middle;\n",
       "    }\n",
       "\n",
       "    .dataframe tbody tr th {\n",
       "        vertical-align: top;\n",
       "    }\n",
       "\n",
       "    .dataframe thead th {\n",
       "        text-align: right;\n",
       "    }\n",
       "</style>\n",
       "<table border=\"1\" class=\"dataframe\">\n",
       "  <thead>\n",
       "    <tr style=\"text-align: right;\">\n",
       "      <th></th>\n",
       "      <th>subscriberCount</th>\n",
       "    </tr>\n",
       "    <tr>\n",
       "      <th>searchDate</th>\n",
       "      <th></th>\n",
       "    </tr>\n",
       "  </thead>\n",
       "  <tbody>\n",
       "    <tr>\n",
       "      <th>2020-02-14</th>\n",
       "      <td>103000</td>\n",
       "    </tr>\n",
       "    <tr>\n",
       "      <th>2020-02-15</th>\n",
       "      <td>103000</td>\n",
       "    </tr>\n",
       "    <tr>\n",
       "      <th>2020-02-16</th>\n",
       "      <td>103000</td>\n",
       "    </tr>\n",
       "    <tr>\n",
       "      <th>2020-02-17</th>\n",
       "      <td>103000</td>\n",
       "    </tr>\n",
       "    <tr>\n",
       "      <th>2020-02-18</th>\n",
       "      <td>103000</td>\n",
       "    </tr>\n",
       "    <tr>\n",
       "      <th>...</th>\n",
       "      <td>...</td>\n",
       "    </tr>\n",
       "    <tr>\n",
       "      <th>2021-02-06</th>\n",
       "      <td>157000</td>\n",
       "    </tr>\n",
       "    <tr>\n",
       "      <th>2021-02-07</th>\n",
       "      <td>157000</td>\n",
       "    </tr>\n",
       "    <tr>\n",
       "      <th>2021-02-08</th>\n",
       "      <td>158000</td>\n",
       "    </tr>\n",
       "    <tr>\n",
       "      <th>2021-02-09</th>\n",
       "      <td>158000</td>\n",
       "    </tr>\n",
       "    <tr>\n",
       "      <th>2021-02-10</th>\n",
       "      <td>158000</td>\n",
       "    </tr>\n",
       "  </tbody>\n",
       "</table>\n",
       "<p>363 rows × 1 columns</p>\n",
       "</div>"
      ],
      "text/plain": [
       "            subscriberCount\n",
       "searchDate                 \n",
       "2020-02-14           103000\n",
       "2020-02-15           103000\n",
       "2020-02-16           103000\n",
       "2020-02-17           103000\n",
       "2020-02-18           103000\n",
       "...                     ...\n",
       "2021-02-06           157000\n",
       "2021-02-07           157000\n",
       "2021-02-08           158000\n",
       "2021-02-09           158000\n",
       "2021-02-10           158000\n",
       "\n",
       "[363 rows x 1 columns]"
      ]
     },
     "execution_count": 23,
     "metadata": {},
     "output_type": "execute_result"
    }
   ],
   "source": [
    "df"
   ]
  },
  {
   "cell_type": "markdown",
   "metadata": {},
   "source": [
    "## 30일 예측하기 위해서 마지막 한달 데이터 test로 분리\n",
    "- 컬럼 크기에 따라 아래 값 계산 다름"
   ]
  },
  {
   "cell_type": "code",
   "execution_count": 24,
   "metadata": {},
   "outputs": [],
   "source": [
    "df_size = len(df)\n",
    "pred_date = 30 # 30일 예측\n",
    "target_date = df_size - pred_date"
   ]
  },
  {
   "cell_type": "code",
   "execution_count": 25,
   "metadata": {},
   "outputs": [],
   "source": [
    "train_df = df[:target_date]"
   ]
  },
  {
   "cell_type": "code",
   "execution_count": 26,
   "metadata": {},
   "outputs": [],
   "source": [
    "test_df = df[target_date:]"
   ]
  },
  {
   "cell_type": "code",
   "execution_count": 27,
   "metadata": {},
   "outputs": [
    {
     "data": {
      "image/png": "[encoded data removed]",
      "text/plain": [
       "<Figure size 432x288 with 1 Axes>"
      ]
     },
     "metadata": {
      "needs_background": "light"
     },
     "output_type": "display_data"
    }
   ],
   "source": [
    "train_df.plot()\n",
    "plt.show()"
   ]
  },
  {
   "cell_type": "markdown",
   "metadata": {},
   "source": [
    "## ARIMA 모델 설계 및 학습"
   ]
  },
  {
   "cell_type": "code",
   "execution_count": 28,
   "metadata": {},
   "outputs": [],
   "source": [
    "from statsmodels.tsa.arima_model import ARIMA\n",
    "import statsmodels.api as sm"
   ]
  },
  {
   "cell_type": "code",
   "execution_count": 29,
   "metadata": {},
   "outputs": [
    {
     "name": "stdout",
     "output_type": "stream",
     "text": [
      "                             ARIMA Model Results                              \n",
      "==============================================================================\n",
      "Dep. Variable:                    D.y   No. Observations:                  332\n",
      "Model:                 ARIMA(2, 1, 2)   Log Likelihood               -2416.763\n",
      "Method:                       css-mle   S.D. of innovations            350.736\n",
      "Date:                Wed, 10 Feb 2021   AIC                           4845.527\n",
      "Time:                        11:03:43   BIC                           4868.358\n",
      "Sample:                             1   HQIC                          4854.632\n",
      "                                                                              \n",
      "==============================================================================\n",
      "                 coef    std err          z      P>|z|      [0.025      0.975]\n",
      "------------------------------------------------------------------------------\n",
      "const        151.4120     43.169      3.507      0.000      66.802     236.022\n",
      "ar.L1.D.y      0.8713      0.376      2.316      0.021       0.134       1.609\n",
      "ar.L2.D.y      0.0933      0.372      0.251      0.802      -0.637       0.823\n",
      "ma.L1.D.y     -0.9961      0.378     -2.636      0.008      -1.737      -0.255\n",
      "ma.L2.D.y      0.0801      0.366      0.219      0.827      -0.637       0.797\n",
      "                                    Roots                                    \n",
      "=============================================================================\n",
      "                  Real          Imaginary           Modulus         Frequency\n",
      "-----------------------------------------------------------------------------\n",
      "AR.1            1.0334           +0.0000j            1.0334            0.0000\n",
      "AR.2          -10.3672           +0.0000j           10.3672            0.5000\n",
      "MA.1            1.1014           +0.0000j            1.1014            0.0000\n",
      "MA.2           11.3403           +0.0000j           11.3403            0.0000\n",
      "-----------------------------------------------------------------------------\n"
     ]
    }
   ],
   "source": [
    "# (AR=2, 차분=1, MA=2) 파라미터로 ARIMA 모델을 학습합니다.\n",
    "model = ARIMA(train_df.subscriberCount.values, order=(2,1,2))\n",
    "\n",
    "#trend : constant를 가지고 있는지, c - constant / nc - no constant\n",
    "#disp : 수렴 정보를 나타냄\n",
    "model_fit = model.fit(trend='c', full_output=True, disp=True)\n",
    "print(model_fit.summary())"
   ]
  },
  {
   "cell_type": "markdown",
   "metadata": {},
   "source": [
    "## 최종 30일 예측값 시각화"
   ]
  },
  {
   "cell_type": "code",
   "execution_count": 30,
   "metadata": {},
   "outputs": [
    {
     "data": {
      "text/plain": [
       "[<matplotlib.lines.Line2D at 0x1f61a2a9580>]"
      ]
     },
     "execution_count": 30,
     "metadata": {},
     "output_type": "execute_result"
    },
    {
     "data": {
      "image/png": "[encoded data removed]",
      "text/plain": [
       "<Figure size 432x288 with 1 Axes>"
      ]
     },
     "metadata": {
      "needs_background": "light"
     },
     "output_type": "display_data"
    }
   ],
   "source": [
    "# 학습 데이터셋으로부터 30일 뒤를 예측합니다.\n",
    "forecast_data = model_fit.forecast(steps=30) \n",
    "\n",
    "pred_y = forecast_data[0].tolist() # 마지막 30일의 예측 데이터입니다. \n",
    "test_y = test_df.subscriberCount.values # 실제 30일 가격 데이터입니다. \n",
    "pred_y_lower = [] # 마지막 30일의 예측 데이터의 최소값입니다.\n",
    "pred_y_upper = [] # 마지막 30일의 예측 데이터의 최대값입니다.\n",
    "for lower_upper in forecast_data[2]:\n",
    "    lower = lower_upper[0]\n",
    "    upper = lower_upper[1]\n",
    "    pred_y_lower.append(lower)\n",
    "    pred_y_upper.append(upper)\n",
    "    \n",
    "plt.plot(pred_y, color=\"gold\") # 모델이 예상한 가격 그래프입니다.\n",
    "plt.plot(pred_y_lower, color=\"red\") # 모델이 예상한 최소가격 그래프입니다.\n",
    "plt.plot(pred_y_upper, color=\"blue\") # 모델이 예상한 최대가격 그래프입니다.\n",
    "plt.plot(test_y, color=\"green\") # 실제 가격 그래프입니다."
   ]
  }
 ],
 "metadata": {
  "kernelspec": {
   "display_name": "Python 3",
   "language": "python",
   "name": "python3"
  },
  "language_info": {
   "codemirror_mode": {
    "name": "ipython",
    "version": 3
   },
   "file_extension": ".py",
   "mimetype": "text/x-python",
   "name": "python",
   "nbconvert_exporter": "python",
   "pygments_lexer": "ipython3",
   "version": "3.8.3"
  }
 },
 "nbformat": 4,
 "nbformat_minor": 4
}
