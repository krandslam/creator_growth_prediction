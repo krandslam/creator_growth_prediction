{
 "cells": [
  {
   "cell_type": "markdown",
   "metadata": {},
   "source": [
    "# 유튜브 크리에이터 정보 웹크롤링"
   ]
  },
  {
   "cell_type": "code",
   "execution_count": null,
   "metadata": {},
   "outputs": [],
   "source": [
    "from selenium import webdriver\n",
    "from selenium.webdriver.common.keys import Keys\n",
    "from bs4 import BeautifulSoup as bs\n",
    "\n",
    "import time\n",
    "import pandas as pd\n",
    "\n",
    "\n",
    "# 리스트 정의\n",
    "creater_list = []\n",
    "sub_list = []\n",
    "video_list = []\n",
    "view_list = []\n",
    "\n",
    "interests = ['흥둥이','화니의주방','챔CHAM','짤막한강좌','임한량','양주연',\n",
    "             '씨디맨','삼순이TV','냥꼬리','꽃피는하루','고기남자','랄로',\n",
    "             'CorgiTV','사나고','소녀의행성','철구형','오늘의하늘','미스터리튜브',\n",
    "            '수빙수','haha ha','토모토모','닥터프렌즈','장삐쭈','속삭이는몽자',\n",
    "            '공돌이 용달','오복이','선바','우주하마','지안씨','뷔브독']"
   ]
  },
  {
   "cell_type": "markdown",
   "metadata": {},
   "source": [
    "### 정보 수집"
   ]
  },
  {
   "cell_type": "code",
   "execution_count": 9,
   "metadata": {},
   "outputs": [
    {
     "name": "stdout",
     "output_type": "stream",
     "text": [
      "['10.2', '10', '10', '9.27', '9.83', '8.33', '8.86', '3.18', '16', '9.98', '96.5', '38.5', '9.26', '290', '87.3', '144', '66.6', '8.92', '94', '104', '64.3', '64.7', '278', '76.4', '57.6', '3.8', '87.9', '117', '12.4', '6.91'] ['49', '437', '132', '316', '333', '235', '4,534', '123', '458', '295', '67', '321', '784', '129', '334', '6,867', '256', '78', '194', '353', '87', '417', '331', '420', '180', '86', '2,049', '1,650', '185', '306'] ['흥둥이', '화니의 주방', '챔CHAM', '짤막한 강좌', '임한량 YHR TV', 'YangJooYeon양주연', '씨디맨', '삼순이TV', '냥꼬리', 'bloomingdays꽃피는하루', '고기남자 MeatMan', '랄로', 'Corgi TV', '사나고 Sanago', '소녀의행성 Girlsplanet', '철구형 (CHULTUBE)', 'Ha Neul오늘의 하늘', '미스터리튜브 MysteryTube', '수빙수tv sooBingsoo', 'haha ha', '토모토모TomoTomo', '닥터프렌즈', '장삐쭈', '속삭이는몽자', '공돌이 용달', '갓오복', 'SUNBA선바', '우주하마', '지안씨JIANSSI', '뷔브독 bwibeu_dog'] ['3,142,380', '15,558,350', '3,850,067', '10,091,187', '44,475,560', '10,707,639', '60,418,433', '4,872,009', '54,324,889', '7,623,296', '82,721,779', '105,858,672', '41,950,703', '345,449,593', '258,807,949', '1,243,593,284', '95,604,584', '6,985,884', '230,431,189', '310,953,466', '77,267,556', '102,198,104', '1,122,771,083', '169,445,358', '156,390,365', '8,097,967', '796,542,940', '497,268,351', '13,046,928', '18,136,078']\n"
     ]
    }
   ],
   "source": [
    "for youtuber in interests: \n",
    "    \n",
    "    # youtube 페이지 띄우기\n",
    "    driver = webdriver.Chrome()\n",
    "    url ='https://youtube.com/'\n",
    "    driver.get(url)\n",
    "\n",
    "    time.sleep(2)\n",
    "\n",
    "\n",
    "    # 수집할 크리에이터 이름 검색\n",
    "    driver.find_element_by_css_selector('input#search').send_keys('{}\\n'.format(youtuber))\n",
    "\n",
    "    time.sleep(2)\n",
    "\n",
    "\n",
    "    # 구독자 수, 동영상 수 정보 수집\n",
    "    html = bs(driver.page_source, 'html.parser')\n",
    "\n",
    "    sub = html.select_one('span#subscribers').text\n",
    "    video_count = html.select_one('span#video-count').text\n",
    "\n",
    "\n",
    "    # 크리에이터 페이지로 이동\n",
    "    if html.select('.channel-link.yt-simple-endpoint.style-scope.ytd-channel-renderer') is not None:\n",
    "        driver.find_element_by_css_selector(\".channel-link.yt-simple-endpoint.style-scope.ytd-channel-renderer\").click()\n",
    "    else:\n",
    "        driver.find_element_by_css_selector(\"div.container.style-scope.ytd-rich-grid-channel\").click()\n",
    "    time.sleep(2)\n",
    "\n",
    "\n",
    "    # 크리에이터명 수집\n",
    "    html = bs(driver.page_source, 'html.parser')\n",
    "\n",
    "    creater = html.select_one('div#text-container').text.strip()\n",
    "\n",
    "\n",
    "    # 크리에이터 정보 탭 url 만들고 페이지 종료\n",
    "    about_url = '{}/about'.format(driver.current_url)\n",
    "    driver.quit()\n",
    "\n",
    "    time.sleep(1)\n",
    "\n",
    "\n",
    "    # 조회수 수집\n",
    "    driver = webdriver.Chrome()\n",
    "    driver.get(about_url)\n",
    "    html = bs(driver.page_source, \"html.parser\")\n",
    "\n",
    "    view = html.select(\"div#right-column > yt-formatted-string.ytd-channel-about-metadata-renderer\")\n",
    "    view_count = view[2].text\n",
    "    time.sleep(2)\n",
    "    driver.quit()\n",
    "\n",
    "\n",
    "    # 리스트에 크리에이터 정보 저장\n",
    "    e = sub.rfind('만')\n",
    "    sub_list.append(sub[4:e])\n",
    "\n",
    "    e1 = sub.rfind('개')\n",
    "    video_list.append(video_count[4:e1])\n",
    "\n",
    "    creater_list.append(creater)\n",
    "\n",
    "    e2 = view_count.rfind('회')\n",
    "    view_list.append(view_count[4:e2])\n",
    "\n",
    "print(sub_list, video_list, creater_list, view_list)"
   ]
  },
  {
   "cell_type": "markdown",
   "metadata": {},
   "source": [
    "### 수집한 정보 저장"
   ]
  },
  {
   "cell_type": "code",
   "execution_count": 10,
   "metadata": {},
   "outputs": [],
   "source": [
    "# 현재 날짜 정보 만들기\n",
    "import datetime\n",
    "from pytz import timezone, utc\n",
    "\n",
    "KST = timezone('Asia/Seoul')\n",
    "now = datetime.datetime.utcnow()\n",
    "Know = utc.localize(now).astimezone(KST).strftime('%Y%m%d')\n",
    "\n",
    "dic = {'크리에이터':creater_list,\n",
    "      '구독자':sub_list,\n",
    "      '동영상':video_list,\n",
    "      '조회수':view_list}\n",
    "\n",
    "df = pd.DataFrame(dic)\n",
    "df.to_csv('{}_크리에이터_정보.csv'.format(Know), encoding='utf_8_sig', index=False)"
   ]
  }
 ],
 "metadata": {
  "kernelspec": {
   "display_name": "Python 3",
   "language": "python",
   "name": "python3"
  },
  "language_info": {
   "codemirror_mode": {
    "name": "ipython",
    "version": 3
   },
   "file_extension": ".py",
   "mimetype": "text/x-python",
   "name": "python",
   "nbconvert_exporter": "python",
   "pygments_lexer": "ipython3",
   "version": "3.8.3"
  }
 },
 "nbformat": 4,
 "nbformat_minor": 4
}
